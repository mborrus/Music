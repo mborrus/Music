{
 "cells": [
  {
   "cell_type": "code",
   "execution_count": 3,
   "id": "a616a7cd",
   "metadata": {},
   "outputs": [
    {
     "name": "stderr",
     "output_type": "stream",
     "text": [
      "/var/folders/93/gp8035s14kxg_66qk6msw_kh0000gp/T/ipykernel_1854/1890642410.py:8: DeprecationWarning: executable_path has been deprecated, please pass in a Service object\n",
      "  driver = webdriver.Chrome(path,chrome_options=chrome_options)\n",
      "/var/folders/93/gp8035s14kxg_66qk6msw_kh0000gp/T/ipykernel_1854/1890642410.py:8: DeprecationWarning: use options instead of chrome_options\n",
      "  driver = webdriver.Chrome(path,chrome_options=chrome_options)\n"
     ]
    },
    {
     "ename": "NoSuchWindowException",
     "evalue": "Message: no such window: target window already closed\nfrom unknown error: web view not found\n  (Session info: chrome=107.0.5304.110)\nStacktrace:\n0   chromedriver                        0x0000000100f6e938 chromedriver + 4745528\n1   chromedriver                        0x0000000100ef0443 chromedriver + 4228163\n2   chromedriver                        0x0000000100b53b68 chromedriver + 441192\n3   chromedriver                        0x0000000100b30240 chromedriver + 295488\n4   chromedriver                        0x0000000100bb5e5d chromedriver + 843357\n5   chromedriver                        0x0000000100bc9729 chromedriver + 923433\n6   chromedriver                        0x0000000100bb1b83 chromedriver + 826243\n7   chromedriver                        0x0000000100b82a5d chromedriver + 633437\n8   chromedriver                        0x0000000100b840b1 chromedriver + 639153\n9   chromedriver                        0x0000000100f3c80e chromedriver + 4540430\n10  chromedriver                        0x0000000100f40f76 chromedriver + 4558710\n11  chromedriver                        0x0000000100f48a1f chromedriver + 4590111\n12  chromedriver                        0x0000000100f41dca chromedriver + 4562378\n13  chromedriver                        0x0000000100f179af chromedriver + 4389295\n14  chromedriver                        0x0000000100f5fcb8 chromedriver + 4684984\n15  chromedriver                        0x0000000100f5fe39 chromedriver + 4685369\n16  chromedriver                        0x0000000100f7646e chromedriver + 4777070\n17  libsystem_pthread.dylib             0x00007ff81a6e54e1 _pthread_start + 125\n18  libsystem_pthread.dylib             0x00007ff81a6e0f6b thread_start + 15\n",
     "output_type": "error",
     "traceback": [
      "\u001b[0;31m---------------------------------------------------------------------------\u001b[0m",
      "\u001b[0;31mNoSuchWindowException\u001b[0m                     Traceback (most recent call last)",
      "\u001b[0;32m/var/folders/93/gp8035s14kxg_66qk6msw_kh0000gp/T/ipykernel_1854/1890642410.py\u001b[0m in \u001b[0;36m<module>\u001b[0;34m\u001b[0m\n\u001b[1;32m     12\u001b[0m \u001b[0;34m\u001b[0m\u001b[0m\n\u001b[1;32m     13\u001b[0m \u001b[0mtime\u001b[0m\u001b[0;34m.\u001b[0m\u001b[0msleep\u001b[0m\u001b[0;34m(\u001b[0m\u001b[0;36m5\u001b[0m\u001b[0;34m)\u001b[0m\u001b[0;34m\u001b[0m\u001b[0;34m\u001b[0m\u001b[0m\n\u001b[0;32m---> 14\u001b[0;31m \u001b[0mdriver\u001b[0m\u001b[0;34m.\u001b[0m\u001b[0mexecute_script\u001b[0m\u001b[0;34m(\u001b[0m\u001b[0;34m\"window.open('about:blank','secondtab');\"\u001b[0m\u001b[0;34m)\u001b[0m\u001b[0;34m\u001b[0m\u001b[0;34m\u001b[0m\u001b[0m\n\u001b[0m\u001b[1;32m     15\u001b[0m \u001b[0;34m\u001b[0m\u001b[0m\n\u001b[1;32m     16\u001b[0m \u001b[0;31m# It is switching to second tab now\u001b[0m\u001b[0;34m\u001b[0m\u001b[0;34m\u001b[0m\u001b[0m\n",
      "\u001b[0;32m~/opt/anaconda3/lib/python3.9/site-packages/selenium/webdriver/remote/webdriver.py\u001b[0m in \u001b[0;36mexecute_script\u001b[0;34m(self, script, *args)\u001b[0m\n\u001b[1;32m    882\u001b[0m         \u001b[0mcommand\u001b[0m \u001b[0;34m=\u001b[0m \u001b[0mCommand\u001b[0m\u001b[0;34m.\u001b[0m\u001b[0mW3C_EXECUTE_SCRIPT\u001b[0m\u001b[0;34m\u001b[0m\u001b[0;34m\u001b[0m\u001b[0m\n\u001b[1;32m    883\u001b[0m \u001b[0;34m\u001b[0m\u001b[0m\n\u001b[0;32m--> 884\u001b[0;31m         return self.execute(command, {\n\u001b[0m\u001b[1;32m    885\u001b[0m             \u001b[0;34m'script'\u001b[0m\u001b[0;34m:\u001b[0m \u001b[0mscript\u001b[0m\u001b[0;34m,\u001b[0m\u001b[0;34m\u001b[0m\u001b[0;34m\u001b[0m\u001b[0m\n\u001b[1;32m    886\u001b[0m             'args': converted_args})['value']\n",
      "\u001b[0;32m~/opt/anaconda3/lib/python3.9/site-packages/selenium/webdriver/remote/webdriver.py\u001b[0m in \u001b[0;36mexecute\u001b[0;34m(self, driver_command, params)\u001b[0m\n\u001b[1;32m    428\u001b[0m         \u001b[0mresponse\u001b[0m \u001b[0;34m=\u001b[0m \u001b[0mself\u001b[0m\u001b[0;34m.\u001b[0m\u001b[0mcommand_executor\u001b[0m\u001b[0;34m.\u001b[0m\u001b[0mexecute\u001b[0m\u001b[0;34m(\u001b[0m\u001b[0mdriver_command\u001b[0m\u001b[0;34m,\u001b[0m \u001b[0mparams\u001b[0m\u001b[0;34m)\u001b[0m\u001b[0;34m\u001b[0m\u001b[0;34m\u001b[0m\u001b[0m\n\u001b[1;32m    429\u001b[0m         \u001b[0;32mif\u001b[0m \u001b[0mresponse\u001b[0m\u001b[0;34m:\u001b[0m\u001b[0;34m\u001b[0m\u001b[0;34m\u001b[0m\u001b[0m\n\u001b[0;32m--> 430\u001b[0;31m             \u001b[0mself\u001b[0m\u001b[0;34m.\u001b[0m\u001b[0merror_handler\u001b[0m\u001b[0;34m.\u001b[0m\u001b[0mcheck_response\u001b[0m\u001b[0;34m(\u001b[0m\u001b[0mresponse\u001b[0m\u001b[0;34m)\u001b[0m\u001b[0;34m\u001b[0m\u001b[0;34m\u001b[0m\u001b[0m\n\u001b[0m\u001b[1;32m    431\u001b[0m             response['value'] = self._unwrap_value(\n\u001b[1;32m    432\u001b[0m                 response.get('value', None))\n",
      "\u001b[0;32m~/opt/anaconda3/lib/python3.9/site-packages/selenium/webdriver/remote/errorhandler.py\u001b[0m in \u001b[0;36mcheck_response\u001b[0;34m(self, response)\u001b[0m\n\u001b[1;32m    245\u001b[0m                 \u001b[0malert_text\u001b[0m \u001b[0;34m=\u001b[0m \u001b[0mvalue\u001b[0m\u001b[0;34m[\u001b[0m\u001b[0;34m'alert'\u001b[0m\u001b[0;34m]\u001b[0m\u001b[0;34m.\u001b[0m\u001b[0mget\u001b[0m\u001b[0;34m(\u001b[0m\u001b[0;34m'text'\u001b[0m\u001b[0;34m)\u001b[0m\u001b[0;34m\u001b[0m\u001b[0;34m\u001b[0m\u001b[0m\n\u001b[1;32m    246\u001b[0m             \u001b[0;32mraise\u001b[0m \u001b[0mexception_class\u001b[0m\u001b[0;34m(\u001b[0m\u001b[0mmessage\u001b[0m\u001b[0;34m,\u001b[0m \u001b[0mscreen\u001b[0m\u001b[0;34m,\u001b[0m \u001b[0mstacktrace\u001b[0m\u001b[0;34m,\u001b[0m \u001b[0malert_text\u001b[0m\u001b[0;34m)\u001b[0m  \u001b[0;31m# type: ignore[call-arg]  # mypy is not smart enough here\u001b[0m\u001b[0;34m\u001b[0m\u001b[0;34m\u001b[0m\u001b[0m\n\u001b[0;32m--> 247\u001b[0;31m         \u001b[0;32mraise\u001b[0m \u001b[0mexception_class\u001b[0m\u001b[0;34m(\u001b[0m\u001b[0mmessage\u001b[0m\u001b[0;34m,\u001b[0m \u001b[0mscreen\u001b[0m\u001b[0;34m,\u001b[0m \u001b[0mstacktrace\u001b[0m\u001b[0;34m)\u001b[0m\u001b[0;34m\u001b[0m\u001b[0;34m\u001b[0m\u001b[0m\n\u001b[0m\u001b[1;32m    248\u001b[0m \u001b[0;34m\u001b[0m\u001b[0m\n\u001b[1;32m    249\u001b[0m     \u001b[0;32mdef\u001b[0m \u001b[0m_value_or_default\u001b[0m\u001b[0;34m(\u001b[0m\u001b[0mself\u001b[0m\u001b[0;34m,\u001b[0m \u001b[0mobj\u001b[0m\u001b[0;34m:\u001b[0m \u001b[0mMapping\u001b[0m\u001b[0;34m[\u001b[0m\u001b[0m_KT\u001b[0m\u001b[0;34m,\u001b[0m \u001b[0m_VT\u001b[0m\u001b[0;34m]\u001b[0m\u001b[0;34m,\u001b[0m \u001b[0mkey\u001b[0m\u001b[0;34m:\u001b[0m \u001b[0m_KT\u001b[0m\u001b[0;34m,\u001b[0m \u001b[0mdefault\u001b[0m\u001b[0;34m:\u001b[0m \u001b[0m_VT\u001b[0m\u001b[0;34m)\u001b[0m \u001b[0;34m->\u001b[0m \u001b[0m_VT\u001b[0m\u001b[0;34m:\u001b[0m\u001b[0;34m\u001b[0m\u001b[0;34m\u001b[0m\u001b[0m\n",
      "\u001b[0;31mNoSuchWindowException\u001b[0m: Message: no such window: target window already closed\nfrom unknown error: web view not found\n  (Session info: chrome=107.0.5304.110)\nStacktrace:\n0   chromedriver                        0x0000000100f6e938 chromedriver + 4745528\n1   chromedriver                        0x0000000100ef0443 chromedriver + 4228163\n2   chromedriver                        0x0000000100b53b68 chromedriver + 441192\n3   chromedriver                        0x0000000100b30240 chromedriver + 295488\n4   chromedriver                        0x0000000100bb5e5d chromedriver + 843357\n5   chromedriver                        0x0000000100bc9729 chromedriver + 923433\n6   chromedriver                        0x0000000100bb1b83 chromedriver + 826243\n7   chromedriver                        0x0000000100b82a5d chromedriver + 633437\n8   chromedriver                        0x0000000100b840b1 chromedriver + 639153\n9   chromedriver                        0x0000000100f3c80e chromedriver + 4540430\n10  chromedriver                        0x0000000100f40f76 chromedriver + 4558710\n11  chromedriver                        0x0000000100f48a1f chromedriver + 4590111\n12  chromedriver                        0x0000000100f41dca chromedriver + 4562378\n13  chromedriver                        0x0000000100f179af chromedriver + 4389295\n14  chromedriver                        0x0000000100f5fcb8 chromedriver + 4684984\n15  chromedriver                        0x0000000100f5fe39 chromedriver + 4685369\n16  chromedriver                        0x0000000100f7646e chromedriver + 4777070\n17  libsystem_pthread.dylib             0x00007ff81a6e54e1 _pthread_start + 125\n18  libsystem_pthread.dylib             0x00007ff81a6e0f6b thread_start + 15\n"
     ]
    }
   ],
   "source": [
    "from selenium import webdriver\n",
    "from selenium.webdriver.common.keys import Keys\n",
    "from selenium.webdriver.chrome.options import Options\n",
    "import chromedriver_autoinstaller as chromedriver\n",
    "path = chromedriver.install()\n",
    "import time\n",
    "\n",
    "#This mutes the windows we're going to open\n",
    "chrome_options = Options()\n",
    "chrome_options.add_argument(\"--mute-audio\")\n",
    "\n",
    "#This makes a web-driver - aka a virtual online session\n",
    "driver = webdriver.Chrome(path,chrome_options=chrome_options)\n",
    "\n",
    "#This opens up the widget (rather than the website), and the second step clicks the html element for the play button\n",
    "driver.get(\"https://www.mixcloud.com/widget/iframe/?hide_cover=1&feed=%2FDj_Soup9%2Fdj-soup-fresh-start-dj-contest%2F\")\n",
    "# driver.find_element_by_class_name('widget-play-button').click()\n",
    "\n",
    "#pause for 5 seconds so it can load before switching tabs\n",
    "# pause_length = random.randint(5,3*60);\n",
    "# time.sleep(pause_length)\n",
    "time.sleep(10)\n",
    "\n",
    "#Open a new tab and switch to it\n",
    "driver.execute_script(\"window.open('about:blank','secondtab');\")\n",
    "driver.switch_to.window(\"secondtab\")\n",
    "\n",
    "#repeat above\n",
    "driver.get(\"https://www.mixcloud.com/widget/iframe/?hide_cover=1&feed=%2FDj_Soup9%2Fdj-soup-fresh-start-dj-contest%2F\")\n",
    "# driver.find_element_by_class_name('widget-play-button').click()\n",
    "\n",
    "# play_length = random.randint(5*60,25*60)\n",
    "# time.sleep(play_length)\n",
    "time.sleep(10)\n",
    "\n",
    "driver.close();\n",
    "driver.switch_to.window(driver.window_handles[0])\n",
    "driver.close()"
   ]
  },
  {
   "cell_type": "code",
   "execution_count": 6,
   "id": "916c66f5",
   "metadata": {},
   "outputs": [
    {
     "name": "stdout",
     "output_type": "stream",
     "text": [
      "/Users/mborrus/opt/anaconda3/bin/python\n"
     ]
    }
   ],
   "source": [
    "import sys\n",
    "print(sys.executable)"
   ]
  }
 ],
 "metadata": {
  "kernelspec": {
   "display_name": "Python 3 (ipykernel)",
   "language": "python",
   "name": "python3"
  },
  "language_info": {
   "codemirror_mode": {
    "name": "ipython",
    "version": 3
   },
   "file_extension": ".py",
   "mimetype": "text/x-python",
   "name": "python",
   "nbconvert_exporter": "python",
   "pygments_lexer": "ipython3",
   "version": "3.9.7"
  }
 },
 "nbformat": 4,
 "nbformat_minor": 5
}
